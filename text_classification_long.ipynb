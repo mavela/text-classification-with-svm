{
  "nbformat": 4,
  "nbformat_minor": 0,
  "metadata": {
    "colab": {
      "name": "text classification - long.ipynb",
      "provenance": [],
      "authorship_tag": "ABX9TyNEP+hitUJK5ulSSNqduOtJ",
      "include_colab_link": true
    },
    "kernelspec": {
      "name": "python3",
      "display_name": "Python 3"
    },
    "language_info": {
      "name": "python"
    }
  },
  "cells": [
    {
      "cell_type": "markdown",
      "metadata": {
        "id": "view-in-github",
        "colab_type": "text"
      },
      "source": [
        "<a href=\"https://colab.research.google.com/github/mavela/text-classification-with-svm/blob/main/text_classification_long.ipynb\" target=\"_parent\"><img src=\"https://colab.research.google.com/assets/colab-badge.svg\" alt=\"Open In Colab\"/></a>"
      ]
    },
    {
      "cell_type": "markdown",
      "metadata": {
        "id": "leiR8cH0aQ1W"
      },
      "source": [
        "## Let's get data from Github first"
      ]
    },
    {
      "cell_type": "code",
      "metadata": {
        "colab": {
          "base_uri": "https://localhost:8080/"
        },
        "id": "QvruLn1YaQNu",
        "outputId": "fcc2a75a-f0ce-43b0-9fa2-ffb283c041a3"
      },
      "source": [
        "! git clone https://github.com/mavela/text-classification-with-svm.git\n"
      ],
      "execution_count": 1,
      "outputs": [
        {
          "output_type": "stream",
          "name": "stdout",
          "text": [
            "Cloning into 'text-classification-with-svm'...\n",
            "remote: Enumerating objects: 30, done.\u001b[K\n",
            "remote: Counting objects: 100% (30/30), done.\u001b[K\n",
            "remote: Compressing objects: 100% (24/24), done.\u001b[K\n",
            "remote: Total 30 (delta 10), reused 22 (delta 5), pack-reused 0\u001b[K\n",
            "Unpacking objects: 100% (30/30), done.\n"
          ]
        }
      ]
    },
    {
      "cell_type": "code",
      "metadata": {
        "colab": {
          "base_uri": "https://localhost:8080/"
        },
        "id": "49pB6ebiajQU",
        "outputId": "475be289-6c26-4aec-e73b-55a786bd139c"
      },
      "source": [
        "%cd text-classification-with-svm/\n",
        "! ls"
      ],
      "execution_count": 2,
      "outputs": [
        {
          "output_type": "stream",
          "name": "stdout",
          "text": [
            "/content/text-classification-with-svm\n",
            "analyze.py   na_train.txt  op_train.txt\t\t   README.md  svm_scripts.py\n",
            "na_test.txt  op_test.txt   pb_smallpart.conllu.gz  svm.py\n"
          ]
        }
      ]
    },
    {
      "cell_type": "markdown",
      "metadata": {
        "id": "VUL92WDGdCae"
      },
      "source": [
        "## Let's see how it looks like - print 20 first lines"
      ]
    },
    {
      "cell_type": "code",
      "metadata": {
        "colab": {
          "base_uri": "https://localhost:8080/"
        },
        "id": "s7tOIu2-aost",
        "outputId": "87a6e6ed-693c-4102-9dc2-fcb84b564889"
      },
      "source": [
        "! zcat pb_smallpart.conllu.gz | head -20"
      ],
      "execution_count": 3,
      "outputs": [
        {
          "output_type": "stream",
          "name": "stdout",
          "text": [
            "# <doc id=\"7-510353\" length=\"0-1k\" crawl_date=\"2015-06-05\" url=\"http://yle.fi/uutiset/lahden_paikallisliikenteen_uudistus_edennyt_ilman_suuria_ongelmia/7338226?origin=rss\" langdiff=\"0.11\">\n",
            "# delex_lm_mean_perplexity: 210.51\n",
            "# lex_lm_mean_perplexity: 32064.49\n",
            "# predicted register: narrative\n",
            "# <p heading=\"0\">\n",
            "# paragraph_delex_lm_mean_perplexity: 368.98\n",
            "# paragraph_lexical_lm_mean_perplexity: 50604.32\n",
            "# text = Suurilta ja toistuvilta myöhästymisiltä tai muilta kommelluksilta on vältytty.\n",
            "# </p>\n",
            "1\tSuurilta\tsuuri\tADJ\t_\tCase=Abl|Degree=Pos|Number=Plur\t4\tamod\t_\t_\n",
            "2\tja\tja\tCCONJ\t_\t_\t3\tcc\t_\t_\n",
            "3\ttoistuvilta\ttoistuva\tADJ\t_\tCase=Abl|Degree=Pos|Number=Plur\t1\tconj\t_\t_\n",
            "4\tmyöhästymisiltä\tmyöhästyminen\tNOUN\t_\tCase=Nom|Derivation=Minen|Number=Plur\t9\tobl\t_\t_\n",
            "5\ttai\ttai\tCCONJ\t_\t_\t7\tcc\t_\t_\n",
            "6\tmuilta\tmuu\tPRON\t_\tCase=Abl|Number=Sing|PronType=Dem\t7\tdet\t_\t_\n",
            "7\tkommelluksilta\tkommellus\tNOUN\t_\tCase=Abl|Number=Plur\t4\tconj\t_\t_\n",
            "8\ton\tolla\tAUX\t_\tMood=Ind|Number=Sing|Person=3|Tense=Pres|VerbForm=Fin|Voice=Act\t9\taux:pass\t_\t_\n",
            "9\tvältytty\tvälttyä\tVERB\t_\tCase=Nom|Degree=Pos|Number=Sing|PartForm=Past|VerbForm=Part|Voice=Pass\t0\troot\t_\t_\n",
            "10\t.\t.\tPUNCT\t_\t_\t9\tpunct\t_\t_\n",
            "\n"
          ]
        }
      ]
    },
    {
      "cell_type": "markdown",
      "metadata": {
        "id": "WeH7gu3ybTQ2"
      },
      "source": [
        "### Fetch register data from the parsebank file\n",
        "\n",
        "First we must extract our text classes from the parsebank file. The following classes are available:\n",
        "\n",
        "* how-to/instructions\n",
        "* informational description\n",
        "* informational persuasion general\n",
        "* interactive discussion\n",
        "* machine translated\n",
        "* narrative\n",
        "* opinion"
      ]
    },
    {
      "cell_type": "code",
      "metadata": {
        "colab": {
          "base_uri": "https://localhost:8080/"
        },
        "id": "sntpTql5a-CZ",
        "outputId": "34657111-2d71-4968-879a-5832fb6ca87d"
      },
      "source": [
        "from analyze import extract_register\n",
        "\n",
        "extract_register(\"opinion\", \"pb_smallpart.conllu.gz\")\n",
        "\n",
        "extract_register(\"narrative\", \"pb_smallpart.conllu.gz\")"
      ],
      "execution_count": 4,
      "outputs": [
        {
          "output_type": "stream",
          "name": "stdout",
          "text": [
            "Wrote opinion texts to a file!\n",
            "Wrote narrative texts to a file!\n"
          ]
        },
        {
          "output_type": "execute_result",
          "data": {
            "text/plain": [
              "<_io.TextIOWrapper name='narrative_ext.conllu' mode='w' encoding='UTF-8'>"
            ]
          },
          "metadata": {},
          "execution_count": 4
        }
      ]
    },
    {
      "cell_type": "code",
      "metadata": {
        "colab": {
          "base_uri": "https://localhost:8080/"
        },
        "id": "ZlgR2Hd8guIl",
        "outputId": "e923bdae-de86-4c4d-9023-f23256739123"
      },
      "source": [
        "!head -20 narrative_ext.conllu # if you want to have a look at the data, run this!"
      ],
      "execution_count": 5,
      "outputs": [
        {
          "output_type": "stream",
          "name": "stdout",
          "text": [
            "# predicted register: narrative\n",
            "\n",
            "1\tSuurilta\tsuuri\tADJ\t_\tCase=Abl|Degree=Pos|Number=Plur\t4\tamod\t_\t_\n",
            "2\tja\tja\tCCONJ\t_\t_\t3\tcc\t_\t_\n",
            "3\ttoistuvilta\ttoistuva\tADJ\t_\tCase=Abl|Degree=Pos|Number=Plur\t1\tconj\t_\t_\n",
            "4\tmyöhästymisiltä\tmyöhästyminen\tNOUN\t_\tCase=Nom|Derivation=Minen|Number=Plur\t9\tobl\t_\t_\n",
            "5\ttai\ttai\tCCONJ\t_\t_\t7\tcc\t_\t_\n",
            "6\tmuilta\tmuu\tPRON\t_\tCase=Abl|Number=Sing|PronType=Dem\t7\tdet\t_\t_\n",
            "7\tkommelluksilta\tkommellus\tNOUN\t_\tCase=Abl|Number=Plur\t4\tconj\t_\t_\n",
            "8\ton\tolla\tAUX\t_\tMood=Ind|Number=Sing|Person=3|Tense=Pres|VerbForm=Fin|Voice=Act\t9\taux:pass\t_\t_\n",
            "9\tvältytty\tvälttyä\tVERB\t_\tCase=Nom|Degree=Pos|Number=Sing|PartForm=Past|VerbForm=Part|Voice=Pass\t0\troot\t_\t_\n",
            "10\t.\t.\tPUNCT\t_\t_\t9\tpunct\t_\t_\n",
            "\n",
            "1\t–\t–\tPUNCT\t_\t_\t5\tpunct\t_\t_\n",
            "2\tTietooni\ttieto\tNOUN\t_\tCase=Ill|Number=Sing|Number[psor]=Sing|Person[psor]=1\t5\tobl\t_\t_\n",
            "3\tei\tei\tAUX\t_\tNumber=Sing|Person=3|Polarity=Neg|VerbForm=Fin|Voice=Act\t5\taux\t_\t_\n",
            "4\tole\tolla\tAUX\t_\tConnegative=Yes|Mood=Ind|Tense=Pres|VerbForm=Fin\t5\taux\t_\t_\n",
            "5\ttullut\ttulla\tVERB\t_\tCase=Nom|Degree=Pos|Number=Sing|PartForm=Past|VerbForm=Part|Voice=Act\t0\troot\t_\t_\n",
            "6\tliikennöitsijöiltä\tliikennöitsijä\tNOUN\t_\tCase=Abl|Number=Plur\t5\tobl\t_\t_\n",
            "7\tsellaisia\tsellainen\tADJ\t_\tCase=Par|Degree=Pos|Derivation=Lainen|Number=Plur\t8\tamod\t_\t_\n"
          ]
        }
      ]
    },
    {
      "cell_type": "markdown",
      "metadata": {
        "id": "NR1xcGh8jUcl"
      },
      "source": [
        "## Then let's save just the texts"
      ]
    },
    {
      "cell_type": "code",
      "metadata": {
        "id": "-NOExvMFVyQo"
      },
      "source": [
        "from svm_scripts import save_text_format\n",
        "\n",
        "save_text_format(\"narrative_ext.conllu\",\"FORM\") # nevermind the \"FORM\", we'll get to that later\n",
        "save_text_format(\"opinion_ext.conllu\", \"FORM\")\n",
        "\n"
      ],
      "execution_count": 6,
      "outputs": []
    },
    {
      "cell_type": "code",
      "metadata": {
        "colab": {
          "base_uri": "https://localhost:8080/"
        },
        "id": "gcA_sLJQdiAy",
        "outputId": "f8e5d1d2-894f-4393-a85c-0e7619c9487f"
      },
      "source": [
        "! wc -l narrative_ext.conllu_out.txt # here we print how many lines the file has. oups, a bit of an imbalance! \n",
        "! wc -l opinion_ext.conllu_out.txt"
      ],
      "execution_count": 7,
      "outputs": [
        {
          "output_type": "stream",
          "name": "stdout",
          "text": [
            "1583 narrative_ext.conllu_out.txt\n",
            "155 opinion_ext.conllu_out.txt\n"
          ]
        }
      ]
    },
    {
      "cell_type": "markdown",
      "metadata": {
        "id": "SK11Xyizhan1"
      },
      "source": [
        "### Then let's divide the data to train and text, and give register labels to the texts"
      ]
    },
    {
      "cell_type": "code",
      "metadata": {
        "colab": {
          "base_uri": "https://localhost:8080/"
        },
        "id": "72kG4V1thjcO",
        "outputId": "686dfe29-846b-4d73-f698-a9293faaf47f"
      },
      "source": [
        "! cat narrative_ext.conllu_out.txt | head -100 | perl -pe 's/^/NA\\t/g' > na_train.txt\n",
        "! cat opinion_ext.conllu_out.txt | head -100 | perl -pe 's/^/OP\\t/g' >  op_train.txt\n",
        "\n",
        "! cat narrative_ext.conllu_out.txt | head -155 | tail -55 | perl -pe 's/^/NA\\t/g' > na_test.txt\n",
        "! cat opinion_ext.conllu_out.txt | head -155 | tail -55 | perl -pe 's/^/OP\\t/g' > op_test.txt\n",
        "\n",
        "! cat op_test.txt | head -3"
      ],
      "execution_count": 8,
      "outputs": [
        {
          "output_type": "stream",
          "name": "stdout",
          "text": [
            "OP\tperjantai 4. heinäkuuta 2014 112 - vihaan itseäni Linnea Parkkosen ( s. 1995 ) kolmas kirja 112 – vihaan itseäni sijoittuu nuorten maailmaan , mutta joka on terveellistä myös vanhempien lukea , sillä kirja kertoo salakavalasta sairaudesta anoreksiasta . Kirjan päähenkilö on yhdeksäsluokkalainen Lilian , kiltti koululainen , joka opiskeli ahkerasti , harrasti ja jolta ei puuttunut ystäviä . Vanhempi sisko oli muuttanut jo kotoa pois , mutta Lilian eli Lilli vietti paljon aikaa hänen kanssaan . Jopa niin paljon , että unohti välillä kotiintuloaikansa . Leijona seisoi nyt jo niin lähellä , että sen hengityksen tunsi kuonollaan . - Et sä siihen kykene . Niin kuin et yleensä mihinkään , mitä sulta niin harvoin odotetaan . hemmoteltu lapsi . Saat kaiken etkä kuitenkaan mitään arvosta . Sulle kannetaan ruoka pöytään pitkien työpäivien jälkeen ja ootat vielä , että me täällä iltaisin sun tuloos asti jaksetaan valvoa . Huomenna on arkipäivä ja sullakin on koulua ! Se on sun elämässäs tärkeempää ku mikään muu tällä hetkellä , leijona murisi , kiersi sarvet ja painoi kyntensä antiloopin kaulalle . Vaikka antilooppi niin luulikin , se ei viiltänyt sitä auki . Väänsi siihen vain pitkän , vertavuotavan haavan , josta jäisi arpi vielä pitkäksi aikaa . Lillillä ei ollut ketään kelle puhua perheensä ongelmista , ei edes siskolleen niistä voinut puhua . Jokainen perheen jäsen oli hiljaa ongelmista ja yritti piilotella niitä . Lillillä oli koulupaineet , sillä hän halusi olla paras ja päästä parhaaseen lukioon . Lisäksi kaveriporukka päätti aloittaa herkkulakon , sillä terveydenhoitaja oli puhunut terveellisistä syömätavoista ja herkkujen vaarallisuudesta terveydelle . Pian herkkujen jättämiseen liittyi kaiken ruoan jättäminen pois ja jatkuva liikunta . Kirjan sivuilla kerrottiin anoreksian koko polku siihen asti kunnes Lilli pääsi sairaalasta pois . Vielä silloinkaan hän ei ollut terve ja kirjan sivuilla kerrottiin , että sairaus uusii herkästi . Kirjassa ei kerrottu , että anoreksia kuuluu mielenterveysongelmiin , mutta sairaalassa Lilli puhui mm. psykiatrin kanssa ja hänelle kirjattiin epikriisiin ensimmäisen asteen masennus . Energiavaje vaikuttaa sun kykyysi oppia , vähän niin kuin sun kykyyn kasvaa pituuttakin . Tai univaje . Sun aivot ei jaksa käsitellä asioita , kun ne ei saa riittävästi ruokaa . Ja se , että sä joudut jatkuvasti ajattelemaan , mitä aiot syödä tänään tai kuinka aiot välttää syömisen , vie ihan hirveästi voimia . Sä et yksinkertaisesti voi muistaa asioita tai keskittyä kunnolla mihinkään . Niin kurjalta kun se kuulostaakin , sun mielialallasi on myös iso merkitys siihen , miten hyvin sä opit uutta . Purskahdin itkuun . Kirjan loppu oli sopivan toiveikas lukijoille , vaikka kirjassa kerrottiin anoreksiaan kuolleista nuorista , ja lapsista jotka olivat alle kymmenvuotiaita , mutta sairastivat tätä tappavaa tautia . Tämä kirja oli nuoren näkökulmasta kirjoitettu sairauden kuva . Olen aiemmin lukenut Marianne Käckon Tapa minut , äiti ! teoksen , joka on anoreksiaan sairastuneen tytön äidin näkökulmasta kirjoitettu sairaudenkuva . Toivon sydämestäni , että lapset ja nuoret syövät ruokaa ja toivon myös , että perheet ottavat tavaksi yhteiset ruoanlaittohetket ja ruokailut . Toivon myös , että päättäjät ymmärtäisivät , miten tärkeää on , että päiväkodeissa ja kouluissa leijailisi herkullisen ruoan tuoksu , eikä pelkkä kylmä maustamaton laitoskeittiöruoka , johon tarvitaan salapoliisia etsimään sitä terveellistä ja hyvälle maistuvaa ruokaa . Suosittelen kirjaa sosiaali- , terveys- ja kasvatusalan ammattilaisille . 2 kommenttia : ( Anoreksia on monesti tunnollisten tauti . Siksi yleiset terveellisten elämäntapojen tolkutus ovat monesti pahasta . Ne , joille viesti pitäisi mennä eivät niitä noudata ja ne jotka jo noudattavat alkavat noudattaa liikaa . ) Tämä kirja oli niin todenmukaisesti kirjoitettu , että kirjoittajalla on luultavasti omakohtaisia kokemuksia anoreksiasta joko itsellä tai lähipiirissä . Itsensä hyväksyminen ja oman ulkonäön hyväksyminen voi olla vaikeaa nuorille ja myös aikuisille , kun mediassa on runsaasti laihdutusohjelmia ja sitten huippiksia ym. Ystäväni painoi 40kg ja oli 170cm lapsen syntymän jälkeen . Sairaus on uusinut tasaiseen tahtiin useamman kerran . Kirjassa kerrottiin kuinka vaarallista syömättömyys on sydämelle , mutta sairastuneen on vaikea ymmärtää sitä , koska anoreksia on vahva sairaus kun se osuu kohdalle . Lukemisen ilo ... Tämä on se multasormien ja viherpeukaloiden kulta-aikaa , jolloin saa pihaa muokata , kääntää maata , taimia istuttaa . Ihastuneet katseet kiertävät kasvien rivistöjä , kerää kärryt täyteen multaa , mutta älä unohda tärkeintä , nimittäin vettä ja lantaa . Uppoudun kasvikirjoihin , leijun puutarhakuvien seassa , unta vai unelmointia ...\n",
            "OP\ttiistai 9. lokakuuta 2012 Sisareni , rakkaani Joyce Carol Oates on kuuluisa Yhdysvalloista kotoisin oleva kirjailija , jonka laajaa tuotantoa on suomennettu kuusi kirjaa . Sisareni , rakkaani ( My sister , my love 2008 , suom. 2012 ) kertoo erään amerikkalaisen perheen pojan , Skyler Rampiken kirjoittamana koskettavan tarinan heidän perhetragediasta , jonka seurauksena poika joutui kiertämään eri psykiatrisia laitoksia ja käyttämään eri lääkkeitä , joista seurasi huumeriippuvuus . Kirjan syvin sanoma on se , miten väärin vanhemmat voivat kohdella omia lapsia . Tämä ikävä aihe lapsiin kohdistuvasta henkisestä ja fyysisestä väkivallasta vaikuttaa olevan todella pinnalla maailmalla ja Suomessa tällä hetkellä , kun lapsia huostaanotetaan ennätysmäärin ja vanhemmat jopa surmaavat omat lapsensa . Lapsia pitäisi kasvattaa ja tukea kasvussaan lapsuudesta aikuisuuteen , eikä kaltoinkohdella ja tappaa . Kun rikkaassa amerikkalaisperheessä isä on huippupalkattu ja aina töissä , palvelijat hoitavat kotityöt , äiti on kotiäiti ja rahasta ei ole pulaa , voisi kuvitella , että kaikki on hyvin , mutta kulissien takana kaikki on huonosti . Kirjan molemmat vanhemmat ovat itsekkäitä narsisteja ja lapsien pitäisi pönkittää heidän hyvinvointia ja edustaa perhettä upeasti pärjäämällä hyvin koulussa ja harrastuksissa . Lasten tukeminen kehityksessä ylitetään roimasti ja kirjan vanhempien vaatimukset lasten pärjäämisessä ylittää kaikki mahdolliset kriteerit . Raha tai lasten ikä ja kehitys eivät ole esteitä lasten pakottamisessa voittoon ja jos lapset eivät pärjää , isä haastaa valmentajat ja koulut oikeuteen . Kahden narsistin aviosuhde ei kestä varsinkaan isän jatkuvaa oman egonsa pönkittämistä muilla naisilla . Välillä isä muuttaa pois ja välillä palaa takaisin ja perhe voi yhä huonommin . Perheen tytöstä , Bliss , tuli 4-vuotiaana taitoluistelun jääprinsessa , jonka avulla varsinkin perheen äiti alkoi esiintyä mediassa valmentajana ja managerina . Perheen poika , Skyler , unohtui vanhemmilta tytön menestyksen myötä ja pojan koulumenestyksestä huolimatta , häntä ei noteerattu , kunnes perheen tytär löytyi tapettuna talon pannuhuoneesta . Poika piilotettiin sisäoppilaitoksiin ja psykiatrisiin hoitolaitoksiin , totuus tytön kuolemasta ei saanut tulla julki . Kirjan sanoma on ajankohtainen ja tärkeä . Pojan oma ääni tarinan kertojana on surullista luettavaa . Kirjassa on yli 700 sivua , joten kirjailija on rönsyillyt aika tavalla ja kirja ei etene suoraviivaisesti , vaan lukija joutuu useamman kerran palaamaan eri aikojen tapahtumiin ja ihmettelemään tarinan juonta . Ehkä kirjailija on halunnut luoda huumeriippuvaisen ajatusmaailmaa sekavana kirjoitustyylinä . Kirjaa tiivistämällä ja poistamalla samoja asioita kertovia kohtauksia kirjan luettavuus paranisi , mutta nyt kirjassa on liikaa samoja kohtauksia . ** * Ei kommentteja : Lähetä kommentti Lukemisen ilo ... Tämä on se multasormien ja viherpeukaloiden kulta-aikaa , jolloin saa pihaa muokata , kääntää maata , taimia istuttaa . Ihastuneet katseet kiertävät kasvien rivistöjä , kerää kärryt täyteen multaa , mutta älä unohda tärkeintä , nimittäin vettä ja lantaa . Uppoudun kasvikirjoihin , leijun puutarhakuvien seassa , unta vai unelmointia ...\n",
            "OP\tsunnuntai 6. lokakuuta 2013 Sankta Psykon kasvatit Hän olisi yhtä hyvin voinut vetää ylös vasemman hihan ; partaveitsen viilloista on jäänyt pitkiä arpia kumpaankin käsivarteen . Ruotsalainen Johan Theorin on kirjoittanut kauhukirjan Sankta Psykon kasvatit ( 2013 ) . Kirja sijoittuu vankimielisairaalaan ja sen vieressä olevaan päiväkotiin , jossa hoidetaan sairaalan potilaiden lapsia . Lasten ja vanhempien välit pyritään pitämään kunnossa , joten lapset käyvät päivittäin vierailuilla vanhempiensa luona . Johan Theorin on aiemmin kirjoittanut runsaasti palkitun kolmiosaisen Öölanti-sarjan , johon kuuluvat jännityskirjat Hämärän hetki , Yömyrsky ja Verikallio . Kauhukirjalle sopiva nimi Sankta Psykon kasvatit ei petä kauhukirjallisuuden ystäviä , sillä kirja sisältää sitä itseään , hiuksia nostattavaa jännitystä ja ihmisten tekemiä ikäviä , jopa väkivaltaisia tekoja toisia ihmisiä kohtaan . Kirjan päähenkilö oli lastentarhanopettaja Jan Hauger , joka hankkiutui Vallan pikkukaupunkiin , Ruotsin länsirannikolle , sijaiseksi Metsäkedon päiväkotiin . Janilla oli omat syynsä miksi hän hankkiutui vankimielisairaalan päiväkotiin töihin , mutta pian hän sai tietää myös muiden työntekijöiden syitä työskentelyyn kauhutalon läheisyydessä . Jokaista kiinnosti halu päästä vankimielisairaalan sisälle . Jokaista heitä kiinnosti joku potilas . Pahin sairaalan potilaista oli sarjamurhaaja Ivan Rössel , joka pyöritti sairaalan henkilökuntaa omien halujensa mukaan . Pian Jan oli tietämättään mukana Ivanin suunnitelmissa . Jan oli teini-iässä koulukiusattu , ja oli ollut nuorisopsykiatrisella osastolla hoidettavana teini-iässä . Siellä hän tapasi Ramin . Jan rakasti Ramia pakkomielteenomaisesti ja kuvitteli Ramin olevan potilaana Sankta Psykossa . Jan käytti kaiken mahdollisen ajan löytääkseen Ramin sairaalasta . Hän halusi vapauttaa rakkaansa sieltä . Tutkiessaan sairaalaa ja etsiessään Ramia öisin , Jan joutui yhä tiukemmin Ivan Rösselin talutusnuoraan kiinni . Ivan ei ollut ainoa joka johdatti Jania , vaan samaan joukkoon kuului myös muita päiväkodin ja sairaalan työntekijöitä . Ivan oli se iso hämähäkki , joka kutoi verkkoaan ja Jan oli se utelias kärpänen , joka pörräsi verkon ympärillä . Ivan halusi vapauteen ja vapauden avain oli Jan . Kirjan tarina polveilee kahdessa tasossa : nykyisyydessä ja Janin teini-iässä . Kirjan rakenne toimi hienosti yhdessä . Theorin toi hienosti esille sen miten nuoria itsemurhan yrittäneitä hoidetaan . Muutama viikko suljetulla ja sitten nuori lähetetään takaisin omaan kouluun kiusaajien pariin . Terapia on mitä on ja sitä ei jatkettu ainakaan Janin kanssa . Janin ongelmat lakaistiin maton alle . Jan ei kuitenkaan ollut päässyt irti kiusaajien tekemistä teoista , vaan ne seurasivat häntä . Hänellä oli pakkomielteenä halu kostaa ja koston kohteina olivat pienet pojat . Suurimman osan elämästään , hän oli pystynyt pitämään halunsa kurissa . * *** Katsot kelloa . Se on viittä yli puoli kaksi . Puoli kaksi sunnuntai-iltapäivänä . Panet silmät kiinni ja laske . Olit lukittuna saunaan melkein kaksi vuorokautta – neljäkymmentäkuusi tuntia . 8 kommenttia : Olin kirjastossa kahden vailla lainaanko vai en tämän jännärin . Kirjastontäti sanoi , että minun on pakko lukea se ... hyvä suositus ... kyseinen kirjastotäti lukee vain jännäreitä ja meillä on aina kivat keskustelut jännityskirjoista ja kirjailijoista tai mistä milloinkin . Itsellä tulee kyllä luettua kirjoja laidasta laitaan . Jännitysähkyn päälle tarvitaan rakkautta ja romantiikkaa . Telkkarista tulee perjantaisin Naisten paratiisi , joka perustuu Emile Zolan kirjaan . Ihana sarja . Taidan lainata myös kirjan :) Jos tykkäät Stephen Kingistä , niin tykkäät Theorinin Sankta Psykon kasvateista , psykologista trilleriä tarjolla , ole hyvä . Hyytävintä oli se , että minua pelotti se mitä kirjailija oli varannut pienille päiväkodin lapsille ... Lukemisen ilo ... Tämä on se multasormien ja viherpeukaloiden kulta-aikaa , jolloin saa pihaa muokata , kääntää maata , taimia istuttaa . Ihastuneet katseet kiertävät kasvien rivistöjä , kerää kärryt täyteen multaa , mutta älä unohda tärkeintä , nimittäin vettä ja lantaa . Uppoudun kasvikirjoihin , leijun puutarhakuvien seassa , unta vai unelmointia ...\n"
          ]
        }
      ]
    },
    {
      "cell_type": "code",
      "metadata": {
        "id": "wxwXb3Nal2Yd"
      },
      "source": [
        "! cat na_train.txt op_train.txt | shuf  > train.txt\n",
        "! cat na_test.txt op_test.txt | shuf > test.txt"
      ],
      "execution_count": 9,
      "outputs": []
    },
    {
      "cell_type": "markdown",
      "metadata": {
        "id": "ARi38DXNqJDj"
      },
      "source": [
        "## Then finally the classification!\n"
      ]
    },
    {
      "cell_type": "code",
      "metadata": {
        "colab": {
          "base_uri": "https://localhost:8080/"
        },
        "id": "4_z2fWQaqR_v",
        "outputId": "05ae8b5f-ae40-4b7b-8f9e-12219a50fca4"
      },
      "source": [
        "! python3 svm.py train.txt test.txt"
      ],
      "execution_count": 10,
      "outputs": [
        {
          "output_type": "stream",
          "name": "stdout",
          "text": [
            "              precision    recall  f1-score   support\n",
            "\n",
            "          NA       0.99      0.99      0.99       100\n",
            "          OP       0.99      0.99      0.99       100\n",
            "\n",
            "    accuracy                           0.99       200\n",
            "   macro avg       0.99      0.99      0.99       200\n",
            "weighted avg       0.99      0.99      0.99       200\n",
            "\n"
          ]
        }
      ]
    }
  ]
}