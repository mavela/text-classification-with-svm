{
  "nbformat": 4,
  "nbformat_minor": 0,
  "metadata": {
    "colab": {
      "name": "text classification - long.ipynb",
      "provenance": [],
      "authorship_tag": "ABX9TyNnHFbSHvrjir1RCvD5yaVg",
      "include_colab_link": true
    },
    "kernelspec": {
      "name": "python3",
      "display_name": "Python 3"
    },
    "language_info": {
      "name": "python"
    }
  },
  "cells": [
    {
      "cell_type": "markdown",
      "metadata": {
        "id": "view-in-github",
        "colab_type": "text"
      },
      "source": [
        "<a href=\"https://colab.research.google.com/github/mavela/text-classification-with-svm/blob/main/text_classification_long.ipynb\" target=\"_parent\"><img src=\"https://colab.research.google.com/assets/colab-badge.svg\" alt=\"Open In Colab\"/></a>"
      ]
    },
    {
      "cell_type": "markdown",
      "metadata": {
        "id": "leiR8cH0aQ1W"
      },
      "source": [
        "## Let's get data from Github first"
      ]
    },
    {
      "cell_type": "markdown",
      "metadata": {
        "id": "iGT5JP5GThE-"
      },
      "source": [
        "## Text classification on web registers -- longer version\n",
        "Steps\n",
        "\n",
        "1.   Get data from Github\n",
        "2.   Have a look at conllu data\n",
        "3. Extract specific registers (you can choose!)\n",
        "4. Featurize \n",
        "5. Divide to train and test\n",
        "6. Run the SVM\n",
        "\n",
        "## Things to analyze\n",
        "1. Do the results vary between different registers?\n",
        "2. Do the results vary between feature sets?\n",
        "\n",
        "\n",
        "\n",
        "\n"
      ]
    },
    {
      "cell_type": "code",
      "metadata": {
        "id": "QvruLn1YaQNu"
      },
      "source": [
        "! git clone https://github.com/mavela/text-classification-with-svm.git\n"
      ],
      "execution_count": null,
      "outputs": []
    },
    {
      "cell_type": "code",
      "metadata": {
        "id": "49pB6ebiajQU"
      },
      "source": [
        "%cd text-classification-with-svm/\n",
        "! ls"
      ],
      "execution_count": null,
      "outputs": []
    },
    {
      "cell_type": "markdown",
      "metadata": {
        "id": "VUL92WDGdCae"
      },
      "source": [
        "## Let's see how it looks like - print 20 first lines"
      ]
    },
    {
      "cell_type": "code",
      "metadata": {
        "id": "s7tOIu2-aost"
      },
      "source": [
        "! zcat pb_smallpart.conllu.gz | head -20"
      ],
      "execution_count": null,
      "outputs": []
    },
    {
      "cell_type": "markdown",
      "metadata": {
        "id": "WeH7gu3ybTQ2"
      },
      "source": [
        "### Fetch register data from the parsebank file -- decide which ones you want to try!\n",
        "\n",
        "First we must extract our text classes from the parsebank file. The following classes are available:\n",
        "\n",
        "* how-to_instructions\n",
        "* informational_description\n",
        "* informational_persuasion_general\n",
        "* interactive_discussion\n",
        "* machine_translated\n",
        "* narrative\n",
        "* opinion"
      ]
    },
    {
      "cell_type": "code",
      "metadata": {
        "id": "sntpTql5a-CZ"
      },
      "source": [
        "from analyze import extract_register\n",
        "\n",
        "extract_register(\"narrative\", \"pb_smallpart.conllu.gz\")\n",
        "\n",
        "extract_register(\"interactive_discussion\", \"pb_smallpart.conllu.gz\")\n",
        "! ls"
      ],
      "execution_count": null,
      "outputs": []
    },
    {
      "cell_type": "code",
      "metadata": {
        "id": "ZlgR2Hd8guIl"
      },
      "source": [
        "!head -10 interactive_discussion_ext.conllu # if you want to have a look at the data, run this!"
      ],
      "execution_count": null,
      "outputs": []
    },
    {
      "cell_type": "markdown",
      "metadata": {
        "id": "NR1xcGh8jUcl"
      },
      "source": [
        "## Featurization\n",
        "We can extract the features we want by retrieving information on a specific column in the conllu format. \n",
        "\n",
        "The columns are identified as ID, FORM, LEMMA, UPOS, XPOS, FEAT, HEAD, DEPREL, DEPS, MISC"
      ]
    },
    {
      "cell_type": "code",
      "metadata": {
        "id": "-NOExvMFVyQo"
      },
      "source": [
        "from svm_scripts import save_text_format\n",
        "\n",
        "save_text_format(\"narrative_ext.conllu\",\"LEMMA\") \n",
        "save_text_format(\"interactive_discussion_ext.conllu\", \"LEMMA\")\n",
        "\n",
        "\n"
      ],
      "execution_count": 11,
      "outputs": []
    },
    {
      "cell_type": "code",
      "metadata": {
        "id": "86hz2qugRD8f"
      },
      "source": [
        "! head -5 interactive_discussion_ext.conllu_out.txt"
      ],
      "execution_count": null,
      "outputs": []
    },
    {
      "cell_type": "code",
      "metadata": {
        "id": "gcA_sLJQdiAy"
      },
      "source": [
        "! wc -l narrative_ext.conllu_out.txt # here we print how many lines the featurized files have. oups, a bit of an imbalance! \n",
        "! wc -l interactive_discussion_ext.conllu_out.txt"
      ],
      "execution_count": null,
      "outputs": []
    },
    {
      "cell_type": "markdown",
      "metadata": {
        "id": "SK11Xyizhan1"
      },
      "source": [
        "### Then let's divide the data to train and text, and give register labels to the texts"
      ]
    },
    {
      "cell_type": "code",
      "metadata": {
        "id": "72kG4V1thjcO"
      },
      "source": [
        "! cat narrative_ext.conllu_out.txt | head -500 | perl -pe 's/^/NA\\t/g' > na_train.txt\n",
        "! cat interactive_discussion_ext.conllu_out.txt | head -500 | perl -pe 's/^/ID\\t/g' >  id_train.txt\n",
        "\n",
        "! cat narrative_ext.conllu_out.txt | tail -200 | perl -pe 's/^/NA\\t/g' > na_test.txt\n",
        "! cat interactive_discussion_ext.conllu_out.txt | tail -200 | perl -pe 's/^/ID\\t/g' > id_test.txt\n",
        "\n",
        "! cat id_test.txt | head -3"
      ],
      "execution_count": null,
      "outputs": []
    },
    {
      "cell_type": "code",
      "metadata": {
        "id": "wxwXb3Nal2Yd"
      },
      "source": [
        "! cat na_train.txt id_train.txt | shuf  > train.txt\n",
        "! cat na_test.txt id_test.txt | shuf > test.txt\n",
        "! wc -l train.txt\n",
        "! wc -l test.txt"
      ],
      "execution_count": null,
      "outputs": []
    },
    {
      "cell_type": "markdown",
      "metadata": {
        "id": "ARi38DXNqJDj"
      },
      "source": [
        "## Then finally the classification!\n",
        "\n",
        "You can see if / how the performance varies if you replace the words with syntactic information\n"
      ]
    },
    {
      "cell_type": "code",
      "metadata": {
        "id": "4_z2fWQaqR_v"
      },
      "source": [
        "! python3 svm.py test.txt train.txt"
      ],
      "execution_count": null,
      "outputs": []
    },
    {
      "cell_type": "markdown",
      "metadata": {
        "id": "rVShlfTeLspw"
      },
      "source": [
        "## Want to understand how and why the classifier makes its decisions?\n",
        "\n",
        "From a simple linear classifier such as the SVM we are using here, we can print the most important features identified by the classifier."
      ]
    },
    {
      "cell_type": "code",
      "metadata": {
        "id": "RejMbQomL52y"
      },
      "source": [
        "! python3 svm_explain.py test.txt train.txt"
      ],
      "execution_count": null,
      "outputs": []
    }
  ]
}