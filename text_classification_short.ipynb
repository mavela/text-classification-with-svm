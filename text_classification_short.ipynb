{
  "nbformat": 4,
  "nbformat_minor": 0,
  "metadata": {
    "colab": {
      "name": "text classification - short.ipynb",
      "provenance": [],
      "authorship_tag": "ABX9TyMnGfSJsCE8Ro3WEwkwBFPc",
      "include_colab_link": true
    },
    "kernelspec": {
      "name": "python3",
      "display_name": "Python 3"
    },
    "language_info": {
      "name": "python"
    }
  },
  "cells": [
    {
      "cell_type": "markdown",
      "metadata": {
        "id": "view-in-github",
        "colab_type": "text"
      },
      "source": [
        "<a href=\"https://colab.research.google.com/github/mavela/text-classification-with-svm/blob/main/text_classification_short.ipynb\" target=\"_parent\"><img src=\"https://colab.research.google.com/assets/colab-badge.svg\" alt=\"Open In Colab\"/></a>"
      ]
    },
    {
      "cell_type": "markdown",
      "metadata": {
        "id": "leiR8cH0aQ1W"
      },
      "source": [
        "## Let's get data from Github first"
      ]
    },
    {
      "cell_type": "code",
      "metadata": {
        "colab": {
          "base_uri": "https://localhost:8080/"
        },
        "id": "QvruLn1YaQNu",
        "outputId": "705f6053-5435-46e8-b113-5dea443e8eda"
      },
      "source": [
        "! git clone https://github.com/mavela/text-classification-with-svm.git\n"
      ],
      "execution_count": 1,
      "outputs": [
        {
          "output_type": "stream",
          "name": "stdout",
          "text": [
            "Cloning into 'text-classification-with-svm'...\n",
            "remote: Enumerating objects: 33, done.\u001b[K\n",
            "remote: Counting objects: 100% (33/33), done.\u001b[K\n",
            "remote: Compressing objects: 100% (27/27), done.\u001b[K\n",
            "remote: Total 33 (delta 11), reused 21 (delta 5), pack-reused 0\u001b[K\n",
            "Unpacking objects: 100% (33/33), done.\n"
          ]
        }
      ]
    },
    {
      "cell_type": "code",
      "metadata": {
        "colab": {
          "base_uri": "https://localhost:8080/"
        },
        "id": "49pB6ebiajQU",
        "outputId": "6d4dea48-e0f7-49d2-a185-310e04413dcd"
      },
      "source": [
        "%cd text-classification-with-svm/\n",
        "! ls"
      ],
      "execution_count": 4,
      "outputs": [
        {
          "output_type": "stream",
          "name": "stdout",
          "text": [
            "/content/text-classification-with-svm\n",
            "analyze.py    op_train.txt\t      svm_scripts.py\n",
            "na_test.txt   pb_smallpart.conllu.gz  text_classification_long.ipynb\n",
            "na_train.txt  README.md\n",
            "op_test.txt   svm.py\n"
          ]
        }
      ]
    },
    {
      "cell_type": "markdown",
      "metadata": {
        "id": "dDAkm8ZTrBbn"
      },
      "source": [
        "## How do the files look like?"
      ]
    },
    {
      "cell_type": "code",
      "metadata": {
        "colab": {
          "base_uri": "https://localhost:8080/"
        },
        "id": "3QVTscbIrGc9",
        "outputId": "531dbc26-24ed-4c60-cf5f-5cca1fb79bc9"
      },
      "source": [
        "! cat na_test.txt | head -1\n",
        "! cat op_test.txt | head -1"
      ],
      "execution_count": 5,
      "outputs": [
        {
          "output_type": "stream",
          "name": "stdout",
          "text": [
            "NA\tSetä tapasi Niemelän - mitä kuuluu mäkihyppy ? Setä Antero Mertaranta heiluu taas vuonna 2011 . Vuoden ensimmäisessä jaksossa pureudutaan mäkihyppyyn perusteellisesti , sillä kysymyksiin vastaa Suomen mäkihyppymaajoukkueen päävalmentaja Pekka Niemelä . Herrojen käsittelyssä osansa saavat mäet , tuulikompensaatio ja MM-kisat . Unohtamatta Janne Ahosta ja Harri Ollia . Kuva : YLE Mäkihypyssä yhä suurempaa roolia näyttelevät välineet , joissa Suomi ei jää Niemelän mukaan muista jälkeen . Parannuksia on tehty ja tehdään edelleen . Valmentajan mielestä suomalaisilla on erittäin kilpailukykyiset välineet . Niemelä myöntääkin , ettei että ei välineiden taakse voi myöskään piiloutua , jos tulokset eivät mairittele . Mäkimiesten taustalla vaikuttavat monet tahot ja kehitysprojekti on rullannut monella taholla ympäri Suomea . - Monta vuotta on puhuttu , ettemme että emme ole enää kilpailukykyisiä välinepuolella . Se oli asia jonka halusimme purkaa . Palkkasimme itävaltalaisen teknikon ja sen lisäksi käynnistimme välinekehitysprojektin , jossa on Tampereen teknillinen yliopisto mukana . Otaniemessä on lisäksi tuulitunneli ja Jyväskylässä mahdollisuus konsultoida maailman ainoata mäkihypystä väitellyttä tohtoria , listaa Niemelä uudistuksia . Mäkiprofiilit päivitystä vailla Mäkien profiilit Suomessa sen sijaan ovat Niemelän mukaan ongelmallisia . Vielä 2000-luvun alussa esimerkiksi Kuopio oli maailmankin mittakaavassa johtava mäkikeskus , mutta näin ei ole enää , kun kyseessä on mäkiprofiili . Mäkien vanhanaikaisuus vaikuttaa mäkihyppääjien harjoittelun kautta kilpailumenestykseen . Ongelmana on , että Keski-Euroopassa mäkiprofiilit ovat hyvin erilaisia verrattuna koti-Suomen vastaaviin . - Kotiharjoittelu , joka kuitenkin on se tärkein asia , tapahtuu tietyllä tapaa vanhanaikaisissa mäissä , jolloin välinepäivitykset ja hypyn tekniikka rakennetaan näille profiileille . Sitten kilpailut tapahtuvat 80-prosenttisesti erityyppisissä mäissä . Kyllä meillä Suomessa pitäisi olla yksi mäki , jossa kotiharjoittelua pystyy tekemään kisaolosuhteissa . Maajoukkueen keskuudessa asiat on ratkaistu siten , ettei että ei joukkue leireile Suomessa ollenkaan . Ikävä tilanne on tapetilla , sillä tilanteesta kärsii etenkin seuraava hyppääjien sukupolvi , joka harjoittelee pääsääntöisesti kotimaassa . \" Ahosen tekniikka kateissa \" Myös Janne Ahosen vire ja kunto puhutti kaksikkoa . Myöhäinen kauteen valmistautuminen ja uudet välineet ovat hidastaneet Ahosen kehitystä ja tuloskuntoa . Myös polvileikkaus vaikutti taustalla , vaikka fyysisesti hyppääjä on Niemelän mukaan huippukunnossa . Tekniikassa on parantamista , myöntää Niemelä . - Jos kauteen valmistautuminen lähtee viiveellä , niin tuloskuntokin tulee viiveellä . - Perushypyllä Janne on sijoilla 10-20 , mutta kun tulee kilpailutilanne , hän lisää paukkuja , jolloin tekniikkavirhe suurenee , Niemelä selittää . Niemelän mukaan Ahosen ei tarvitse vaihtaa tekniikkaa , vaan löytää se vanha takaisin . Myös välineiden saaminen kohdilleen on tärkeä pala mäkimiesten palapelissä . Tapaus Harri Olli Harri Ollin ilmoitus uran lopettamisesta tuli alkuviikosta ja yllätyksenä monille , mukaan lukien valmentajalle . Niemelä ei halua spekuloida päätöksen lopullisuudella tai sillä , mikä ajoi Ollin päätökseen . Aiemmin Olli on ilmoittanut päävalmentajalle päätavoitteekseen Sotshin talviolympialaiset 2014 . Niemelä analysoi tilannetta , jonka juuret ulottuvat vähintään alkukauteen . - Kausi on ollut vaikea . Se lähti siitä purkautumaan , että hän on hyvin lahjakas urheilija , mutta fysiikkapuoli jäi puutteelliseksi . Valmentajanvaihdoksia on ollut valtava määrä ja homma ei ole lähtenyt toimimaan . Ei ole ollut normaalia pitkäjänteistä projektia , vaan homma on mennyt rikki joka toinen viikko . - Sen takia se turhautuminen siihen , että homma ei toimi , on laukaissut tällaisen reaktion . Niemelä sanoo pohtineensa Ollin tilannetta ja asiaa paljon . Hän peilaa tilannetta myös ulkomaiden kautta . - Ei minulle ole koskaan tullut eteen tällaista tilannetta , että joka päivä saa olla hänestä kommentoimassa jotain . Taustalla olevista asioista osa jää yhä salaisuuden verhon taakse , sillä Niemelä kunnioittaa urheilijoita . - Sanon suoraan , että tiettyjä henkilökohtaisia asioita en viitsi , enkä voi puhua . Sen verran lojaali haluan olla urheilijoita kohtaan . - Minulla ei ole henkilökohtaisesti mitään Harria vastaan , päinvastoin . Minun tahtotilani oli se , että Harrikin olisi hypännyt mukaan täysillä ja olisimme onnistuneet yhteisissä tavoitteissa . Hän valitsi sitten eri tien ja halusi olla systeemin ulkopuolella , Niemelä toteaa . - Jos joku ei siinä halua olla , niin eihän häntä voi myöskään pakottaa . Kommentoi aihetta ( 12 kommenttia ) Kirjoita kommentti Vastaa alla olevaan kysymykseen . Kysymyksen on tarkoitus varmistaa , että lähetetty kommentti ei ole tietokoneella automaattisesti luotu häiriöviesti . Mikä kuukausi tulee marraskuun jälkeen ? Viestisi luetaan toimituksessa ennen sen julkaisemista . Haluamme tarjota sinulle mahdollisuuden hyvin perusteltuun , laadukkaaseen ja moniääniseen keskusteluun . Tarkemmat pelisäännöt voit lukea tästä linkistä . Harmi kun asioista ei opita 27.1.2011 Tyypillinen tilanne suomalaisessa urheilussa : Ollaan maailman huipulla kun laji on pieni ja muut maat eivat panosta lajiin . Mutta kun muut maat alkaa kiinnostumaan lajista ( ja isot sponsorit lahtee mukaan ! ) , niin Suomi polkee paikoillaan , jaa kelkasta ja lopuksi selitellaan menestymattomyytta kaikenlaisilla tekosyilla . Niin kun tassakin . Kumma juttu 27.1.2011 Jaa , eikö ne ranskassa soitelleetkaan lehdistä perään hyppääjistä kysellen ? olisikohan aika huomata , että tuli vaihdettua maata ja täällä kiinnostus mäkihyppyyn on vähän toista kuin Ranskassa . syytä tottua median kiinnostukseen vic 27.1.2011 Hei hyvää päivää ! Onko tuo Niemelä oikea mies joukkueen valkuksi ... Matemaattista analyysiä joka asiasta . Fiksu kaveri - yes , mutta yksilön johtamiseen - ei . Teoria vs. käytäntö ! Nyt täytyy sanoa \" matemaatikkona \" - tuolla jätkällä on negatiivinen vaikutus meidän hyppääjiin .\n",
            "OP\ttorstai 2. lokakuuta 2014 Kaikki oikein Anna-Leena Härkösen uusin kirja Kaikki oikein syventyi parisuhteen kiemuroihin ja sokerina sopassa pyöri vaimon voittama seitsemän oikein lotossa . Jälleen kerran Härkönen on kirjoittanut viihdepaketin , josta ei puutu komiikkaa eikä tragikomiikkaa . Kaikki oikein teoksen lähdemateriaaliksi mainitaan Tutkimus suomalaisista lottovoittajista vuodelta 1997 , jonka ovat tehneet Pasi Falk ja Pasi Mäenpää . Mieleeni palautui myös ranskalaisen Grégoire Delacourt´n Onnen koukkuja ( 2013 ) , jossa rouva voitti paljon rahaa lotossa . Molemmat rouvat tunsivat miehensä , eivätkä luottaneet heihin raha-asioissa . Nämä kaksi parisuhdeasetelmaa lähtivät hieman eri suunnille lottovoiton saamisen jälkeen . Eevi avasi pakastimen ja työnsi kupongin korvapuustipussin alle . Sieltä Kari ei sitä löytäisi . Sitten hänelle tuli mieleen , että kuponkihan oli lämpöpaperia . Entä jos se tuhoutuisi pakkasessa ? Eevi otti kupongin pois pakastimesta ja siirsi sen jääkaapin takaosaan vadelmahillopurkin alle . Sieltäkään Kari ei sitä löytäisi . Ja lähtisi elvistelemään lähibaariin ja hukkaisi sitä samalla reissulla . Kyllä se nyt rauhoitteli mutta parin kaljan jälkeen kaikki olisi toisin . Kaikki oli toisin jo nyt . Eevillä ja Karilla oli erilaiset suunnitelmat rahojen suhteen , joten pari teki avioehdon ja rahat jaettiin tasan . Alussa molemmat kyttäsivät toisen rahankäyttöä ja huvittavinta oli , että Härkönen nosti esille naisten yleisen valehtelun miehilleen tavaroiden hinnasta . Hintaa pyöristetään reilusti alaspäin tai valehdellaan sen olleen alennusmyynnissä tosi edullinen . Eevi oli tottunut valehtelemaan hinnat , joten hän jatkoi sitä , vaikka siihen ei olisi ollut tarvettakaan . Kumpikin halusi pitää lottovoiton salassa lähipiiriltä , mutta pikkuhiljaa päätöksestä lipsuttiin . Voittorahoille alkoi tulla muitakin jakajia . Se ei tehnyt elettäkään osallistuakseen laskuun . Edes yksi pieni kädenliike olisi vaikuttanut hyvältä , mutta sitä ei tullut . Eevi olisi luonnollisesti kieltäytynyt tarjouksesta , mutta hän olisi halunnut sen tarjouksen . Totta kai ihmiset ovat kateellisia lottomiljonääreille . Eevi ja Kari jäivät vanhoille työpaikoille , sillä töitä suomalaisen on tehtävä , vaikka olisi miljoonia pankissa . Pikkuhiljaa elämään astui muutoksia , eivätkä ne olleet pelkästään hyviä muutoksia . Karin alkoholinkäyttö lisääntyi ja sitä mukaa avio-ongelmat lisääntyivät . Helpotusta eivät tuoneet muutto ensimmäiseen omaan asuntoon , uusi auto ja matkustelu , sillä tunnetusti raha ei lisää onnea . Härkösen Kaikki oikein on niin mainiosti kirjoitettu , että sen näkisi mielellään teatterissa tai elokuvissa . Kirjan kaikki elementit olivat loksahtaneet sopivasti paikoilleen . Hyvä alku , jossa Eevi voitti rahaa , eläminen suuren rahasumman kanssa , kun oli oppinut aiemmin köyhäilemään kaikesta ja lopuksi loppurysäys ja loput voi lukija arvata . Suosittelen . * ** * Kun Eevi kävi jossain vaiheessa yötä vessassa , hän näki Karin olohuoneessa . Kari tanssi yksin Ibodin kuulokkeet korvilla . Se oli pissannut housuun . Haarovälissä näkyi suuri märkä läntti . Ehkäpä se hyvä dialogi tulee siitä , että Härkönen on näyttelijä-kirjailija , joten hän osaa kirjoittaa tekstiä , josta saa elokuvan ja teatteriesityksen . Tapahtumat ovat myös sellaisia , että näen itsekin sieluni silmin tapahtuman :) Limingan tyttöjä . Jotenkin se yhteenkuuluvuus tulee sieltä tekstistä , sillä tykkään tosi paljon hänen huumoristaan . Olen lukenut kaikki hänen kirjat ja katsonut kaikki elokuvat ja tv-sarjat . Tosi napakkaa tekstiä ja kivaa dialogia :) Niin minunkin naapurista . Lukemisen ilo ... Tämä on se multasormien ja viherpeukaloiden kulta-aikaa , jolloin saa pihaa muokata , kääntää maata , taimia istuttaa . Ihastuneet katseet kiertävät kasvien rivistöjä , kerää kärryt täyteen multaa , mutta älä unohda tärkeintä , nimittäin vettä ja lantaa . Uppoudun kasvikirjoihin , leijun puutarhakuvien seassa , unta vai unelmointia ...\n"
          ]
        }
      ]
    },
    {
      "cell_type": "markdown",
      "metadata": {
        "id": "wlMYtb6ord5n"
      },
      "source": [
        "## Then let's combine the files to train and test"
      ]
    },
    {
      "cell_type": "code",
      "metadata": {
        "colab": {
          "base_uri": "https://localhost:8080/"
        },
        "id": "uaqdx3lLriJ6",
        "outputId": "a2f02f33-1b2f-4368-bdeb-f07185fe05ae"
      },
      "source": [
        "! cat na_test.txt op_test.txt | shuf > test.txt\n",
        "! cat na_train.txt op_train.txt | shuf > train.txt\n",
        "! ls"
      ],
      "execution_count": 8,
      "outputs": [
        {
          "output_type": "stream",
          "name": "stdout",
          "text": [
            "analyze.py    op_train.txt\t      svm_scripts.py\n",
            "na_test.txt   pb_smallpart.conllu.gz  test.txt\n",
            "na_train.txt  README.md\t\t      text_classification_long.ipynb\n",
            "op_test.txt   svm.py\t\t      train.txt\n"
          ]
        }
      ]
    },
    {
      "cell_type": "markdown",
      "metadata": {
        "id": "ARi38DXNqJDj"
      },
      "source": [
        "## Then finally the classification!\n"
      ]
    },
    {
      "cell_type": "code",
      "metadata": {
        "colab": {
          "base_uri": "https://localhost:8080/"
        },
        "id": "4_z2fWQaqR_v",
        "outputId": "0ea8531f-bb6a-42da-a90d-13d5574cd698"
      },
      "source": [
        "! python3 svm.py train.txt test.txt"
      ],
      "execution_count": 9,
      "outputs": [
        {
          "output_type": "stream",
          "name": "stdout",
          "text": [
            "              precision    recall  f1-score   support\n",
            "\n",
            "          NA       0.98      0.98      0.98       110\n",
            "          OP       0.98      0.98      0.98       110\n",
            "\n",
            "    accuracy                           0.98       220\n",
            "   macro avg       0.98      0.98      0.98       220\n",
            "weighted avg       0.98      0.98      0.98       220\n",
            "\n"
          ]
        }
      ]
    }
  ]
}